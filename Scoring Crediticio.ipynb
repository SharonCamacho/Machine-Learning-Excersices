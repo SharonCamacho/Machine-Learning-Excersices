{
 "cells": [
  {
   "cell_type": "markdown",
   "metadata": {
    "colab_type": "text",
    "id": "hziziLm3NoFf"
   },
   "source": [
    "<center> <h1> Scoring crediticio </h1> </center>\n",
    "\n",
    "\n",
    "<div style=\"text-align: right\"><img src=\"http://static.iris.net.co/dinero/upload/images/2017/3/17/243092_1.jpg\" width=\"500\" /></div>\n",
    "\n",
    "La cooperativa financiera FINCOOP ha definido una fórmula para otorgamiento crediticio que tiene la siguiente forma matemática:\n",
    "\n",
    "$$ score = edad*0.2 + salario*0.3 + prestamos\\_pagados*0.1 $$\n",
    "\n",
    "El gerente desea automatizar el cálculo del score. Para ello pide al equipo de tecnología desarrollar un programa que calcule el score, teniendo en cuenta las variables de la fórmula.\n",
    "\n",
    "El equipo define que se debe desarrollar una función en Python cuyos argumentos de entrada sean: la edad, salario y el número de prestamos pagados.\n"
   ]
  },
  {
   "cell_type": "code",
   "execution_count": 1,
   "metadata": {
    "colab": {},
    "colab_type": "code",
    "id": "bv7FveVLNoFl"
   },
   "outputs": [],
   "source": [
    "#Definición de variables de cliente\n",
    "edad = 40\n",
    "salario = 1500000\n",
    "prestamos = 4"
   ]
  },
  {
   "cell_type": "code",
   "execution_count": 3,
   "metadata": {
    "colab": {},
    "colab_type": "code",
    "id": "jV5t6wUCNoFx",
    "outputId": "48964578-6990-4b10-df24-5d5cd67f0c22"
   },
   "outputs": [
    {
     "name": "stdout",
     "output_type": "stream",
     "text": [
      "450008.4\n"
     ]
    }
   ],
   "source": [
    "#Ejercicio 1\n",
    "def score (edad, salario, prestamos):\n",
    "    \n",
    "    #Inicio de Completar ~ 1 línea\n",
    "    score = edad * 0.2 + salario * 0.3 + prestamos * 0.1\n",
    "    #Fin de Completar\n",
    "\n",
    "    return score\n",
    "\n",
    "score = score(edad, salario, prestamos)\n",
    "print(score)"
   ]
  },
  {
   "cell_type": "markdown",
   "metadata": {
    "colab_type": "text",
    "id": "sT_8Jo4TNoF2"
   },
   "source": [
    "Tras una charla entre los expertos, se decide crear una segunda versión de Python, la cual reciba un único vector (numpy) y realice el cálculo automáticamente."
   ]
  },
  {
   "cell_type": "code",
   "execution_count": 7,
   "metadata": {
    "colab": {},
    "colab_type": "code",
    "id": "BSrlUNEPNoF3"
   },
   "outputs": [
    {
     "data": {
      "text/plain": [
       "40"
      ]
     },
     "execution_count": 7,
     "metadata": {},
     "output_type": "execute_result"
    }
   ],
   "source": [
    "#Definición de vector de entrada\n",
    "import numpy as np\n",
    "\n",
    "vector_v = np.array([edad, salario, prestamos])\n",
    "\n",
    "vector_v[0]"
   ]
  },
  {
   "cell_type": "code",
   "execution_count": 9,
   "metadata": {
    "colab": {},
    "colab_type": "code",
    "id": "Dlij1aBfNoF9"
   },
   "outputs": [
    {
     "name": "stdout",
     "output_type": "stream",
     "text": [
      "450008.4\n"
     ]
    }
   ],
   "source": [
    "#Ejercicio 2\n",
    "def score_vectorizado (vector_vars):\n",
    "    \n",
    "    #Inicio de Completar ~ 1 línea\n",
    "    score = vector_vars[0] * 0.2 + vector_vars[1] * 0.3 + vector_vars[2] * 0.1\n",
    "    #Fin de Completar\n",
    "    \n",
    "\n",
    "    return score\n",
    "\n",
    "score = score_vectorizado(vector_v)\n",
    "print(score)"
   ]
  },
  {
   "cell_type": "markdown",
   "metadata": {
    "colab_type": "text",
    "id": "sx9qAuaYNoGD"
   },
   "source": [
    "El gerente anuncia en una reunión que los pesos asignados a las variables pueden cambiar, por lo que el equipo decide crear una función más general, que reciba como argumentos el vector de variables y un vector de pesos:"
   ]
  },
  {
   "cell_type": "code",
   "execution_count": 11,
   "metadata": {
    "colab": {},
    "colab_type": "code",
    "id": "vY1jmWU3NoGG"
   },
   "outputs": [
    {
     "data": {
      "text/plain": [
       "450008.4"
      ]
     },
     "execution_count": 11,
     "metadata": {},
     "output_type": "execute_result"
    }
   ],
   "source": [
    "#Definición de vector de entrada y vector de pesos\n",
    "vector_v = np.array([edad, salario, prestamos])\n",
    "vector_p = np.array([0.2, 0.3, 0.1])"
   ]
  },
  {
   "cell_type": "code",
   "execution_count": 12,
   "metadata": {
    "colab": {},
    "colab_type": "code",
    "id": "YbHMjKcCNoGL"
   },
   "outputs": [
    {
     "name": "stdout",
     "output_type": "stream",
     "text": [
      "450008.4\n"
     ]
    }
   ],
   "source": [
    "#Ejercicio 3\n",
    "def score_vectorizado_general (vector_vars, vector_pesos):\n",
    "    \n",
    "    #Inicio de Completar ~ 1 línea\n",
    "    score = np.dot(vector_vars, vector_pesos)\n",
    "    #Fin de Completar\n",
    "    \n",
    "    return score\n",
    "\n",
    "score = score_vectorizado_general (vector_v, vector_p)\n",
    "print(score)"
   ]
  },
  {
   "cell_type": "markdown",
   "metadata": {
    "colab_type": "text",
    "id": "wVPhvrPaNoGP"
   },
   "source": [
    "Ahora se debe implementar la función de tal manera que acepte a muchos clientes en forma de matriz y obtenga el score para cada uno. Cada columna corresponde a una variable y cada fila a un cliente:\n",
    "\n",
    "$$\n",
    "\\begin{pmatrix}\n",
    "edad\\_cliente_{1} & salario\\_cliente_1 & prestamos\\_cliente_1 \\\\\n",
    "edad\\_cliente_2 & salario\\_cliente_2 & prestamos\\_cliente_2 \\\\\n",
    "edad\\_cliente_3 & salario\\_cliente_3 & prestamos\\_cliente_3\n",
    "\\end{pmatrix} $$"
   ]
  },
  {
   "cell_type": "code",
   "execution_count": 13,
   "metadata": {
    "colab": {},
    "colab_type": "code",
    "id": "_8MTon7TNoGR"
   },
   "outputs": [],
   "source": [
    "#Matriz clientes\n",
    "\n",
    "matriz_clientes = np.matrix([[20, 780000, 0],\n",
    "                             [30, 1800000, 3],\n",
    "                             [25, 2000000, 4]])"
   ]
  },
  {
   "cell_type": "code",
   "execution_count": 15,
   "metadata": {
    "colab": {},
    "colab_type": "code",
    "id": "jA3IN97KNoGW",
    "outputId": "0755f4ad-5861-445c-d6cd-887287a971e6"
   },
   "outputs": [
    {
     "name": "stdout",
     "output_type": "stream",
     "text": [
      "[[234004.  540006.3 600005.4]]\n"
     ]
    },
    {
     "data": {
      "text/plain": [
       "600005.4"
      ]
     },
     "execution_count": 15,
     "metadata": {},
     "output_type": "execute_result"
    }
   ],
   "source": [
    "#Ejercicio 4\n",
    "def score_clientes (matriz_clientes, vector_pesos):\n",
    "    \n",
    "    #Inicio de Completar ~ 1 línea\n",
    "    score_por_cliente = np.dot(matriz_clientes, vector_pesos)\n",
    "    #Fin de Completar\n",
    "    \n",
    "    return score_por_cliente\n",
    "\n",
    "score = score_clientes(matriz_clientes, vector_p)\n",
    "print(score)\n",
    "\n",
    "np.max(score)"
   ]
  },
  {
   "cell_type": "markdown",
   "metadata": {
    "colab_type": "text",
    "id": "LugGB5NZNoGe"
   },
   "source": [
    "El equipo se percata que hay algunas variables que tienen más pesos que otras, por lo se desea ajustarlas. Crear una función que reciba la matriz anterior y devuelva la matriz ajustada aplicando la siguiente función a cada columna:\n",
    "\n",
    "$$ valor = (valor-min\\_columna)/(max\\_columna - min\\_columna) $$"
   ]
  },
  {
   "cell_type": "code",
   "execution_count": 21,
   "metadata": {
    "colab": {},
    "colab_type": "code",
    "id": "bRYOQBYwNoGg"
   },
   "outputs": [
    {
     "name": "stdout",
     "output_type": "stream",
     "text": [
      "[[0.         0.         0.        ]\n",
      " [1.         0.83606557 0.75      ]\n",
      " [0.5        1.         1.        ]]\n"
     ]
    }
   ],
   "source": [
    "#Ejercicio 5\n",
    "def normalizar_matriz (input_matriz):\n",
    "    \n",
    "    #Inicio de Completar ~ 1 línea\n",
    "    output_matriz = (input_matriz - np.min(input_matriz, axis=0)) / (np.max(input_matriz, axis=0) - np.min(input_matriz, axis=0))\n",
    "    #Fin de Completar\n",
    "    \n",
    "    return output_matriz\n",
    "\n",
    "print(normalizar_matriz(matriz_clientes))"
   ]
  },
  {
   "cell_type": "markdown",
   "metadata": {
    "colab_type": "text",
    "id": "_vj-dhZJNoGk"
   },
   "source": [
    "Ahora combina todo lo anterior para crear un score final para todos los clientes normalizados.¿Qué valores deberían tener los pesos para que el score se mueva entre 0 y 1? Recalcula el valor de los pesos para que esto se cumpla."
   ]
  },
  {
   "cell_type": "code",
   "execution_count": 30,
   "metadata": {
    "colab": {},
    "colab_type": "code",
    "id": "HgzII8ofNoGm"
   },
   "outputs": [
    {
     "name": "stdout",
     "output_type": "stream",
     "text": [
      "[[0.         0.87636612 0.83333333]]\n"
     ]
    }
   ],
   "source": [
    "#Ejercicio 6\n",
    "def score_total(matriz_clientes, vector_pesos):\n",
    "\n",
    "    #Inicio de Completar ~ 2 líneas\n",
    "    vector_pesos = vector_pesos / np.sum(vector_pesos) #se normaliza el vector pesos\n",
    "    score_matriz = np.dot(normalizar_matriz(matriz_clientes),vector_pesos)\n",
    "    #Fin de Completar\n",
    "    \n",
    "    return score_matriz\n",
    "\n",
    "\n",
    "print(score_total(matriz_clientes, vector_p))"
   ]
  },
  {
   "cell_type": "markdown",
   "metadata": {
    "colab_type": "text",
    "id": "gMUC8RRkNoGq"
   },
   "source": [
    "En Machine Learning, una de las funciones más importantes es la función sigmoide, la cual tiene la siguiente forma: Es una función de activación, la otra función de activación se llama relu\n",
    "\n",
    "$$ simoid(x) = \\frac{1}{(1+e^{-x})} $$"
   ]
  },
  {
   "cell_type": "code",
   "execution_count": 33,
   "metadata": {
    "colab": {},
    "colab_type": "code",
    "id": "WZ7CyvrVNoGs"
   },
   "outputs": [
    {
     "name": "stdout",
     "output_type": "stream",
     "text": [
      "[[0.         0.52581967 0.5       ]]\n",
      "[[0.5        0.62850759 0.62245933]]\n"
     ]
    }
   ],
   "source": [
    "def sigmoid (x):\n",
    "    \n",
    "    return (1/(1+np.exp(-x)))\n",
    "\n",
    "\n",
    "print(score_clientes(normalizar_matriz(matriz_clientes), vector_p))\n",
    "score_modificado = sigmoid(score_clientes(normalizar_matriz(matriz_clientes), vector_p))\n",
    "print(score_modificado)"
   ]
  },
  {
   "cell_type": "markdown",
   "metadata": {
    "colab_type": "text",
    "id": "4sTicDRsNoGy"
   },
   "source": [
    "El score modificado resulta ser una unidad básica en el machine learning: ¡Una neurona! Profundizaremos más sobre esto en un modulo posterior.\n",
    "\n",
    "Por último, si se toma como umbral 0.6 sobre el score modificado para otorgar los creditos, use un ciclo for sólo para imprimir el nombre de los clientes que reciben el crédito. El nombre de los clientes es dado en la lista $nombres$."
   ]
  },
  {
   "cell_type": "code",
   "execution_count": 85,
   "metadata": {
    "colab": {},
    "colab_type": "code",
    "id": "ssloDbV_NoGy"
   },
   "outputs": [
    {
     "name": "stdout",
     "output_type": "stream",
     "text": [
      "Se le a otorgado el crédito a: Maria\n",
      "Se le a otorgado el crédito a: Pablo\n"
     ]
    }
   ],
   "source": [
    "#Ejercicio 7\n",
    "nombres = [\"Juan\", \"Maria\", \"Pablo\"]\n",
    "\n",
    "#Inicio completar ~ 3 líneas\n",
    "\n",
    "for i in range(score_modificado.shape[1]):\n",
    "    if score_modificado[0,i] > 0.6:\n",
    "        print('Se le a otorgado el crédito a: ' + nombres[i])\n",
    "    \n",
    "#Fin completar"
   ]
  },
  {
   "cell_type": "markdown",
   "metadata": {},
   "source": [
    "**Done! \\o/**"
   ]
  },
  {
   "cell_type": "code",
   "execution_count": null,
   "metadata": {},
   "outputs": [],
   "source": []
  }
 ],
 "metadata": {
  "colab": {
   "collapsed_sections": [],
   "name": "Ejercicio_Modulo1.ipynb",
   "provenance": [],
   "version": "0.3.2"
  },
  "kernelspec": {
   "display_name": "Python 3",
   "language": "python",
   "name": "python3"
  },
  "language_info": {
   "codemirror_mode": {
    "name": "ipython",
    "version": 3
   },
   "file_extension": ".py",
   "mimetype": "text/x-python",
   "name": "python",
   "nbconvert_exporter": "python",
   "pygments_lexer": "ipython3",
   "version": "3.6.4"
  }
 },
 "nbformat": 4,
 "nbformat_minor": 1
}
